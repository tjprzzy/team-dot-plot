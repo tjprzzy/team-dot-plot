{
 "cells": [
  {
   "cell_type": "markdown",
   "metadata": {},
   "source": [
    "# Install all Dependencies"
   ]
  },
  {
   "cell_type": "code",
   "execution_count": 2,
   "metadata": {},
   "outputs": [
    {
     "name": "stdout",
     "output_type": "stream",
     "text": [
      "Requirement already satisfied: selenium in c:\\python37\\lib\\site-packages (3.141.0)\n",
      "Requirement already satisfied: urllib3 in c:\\python37\\lib\\site-packages (from selenium) (1.26.2)\n",
      "Note: you may need to restart the kernel to use updated packages.\n"
     ]
    }
   ],
   "source": [
    "pip install selenium"
   ]
  },
  {
   "cell_type": "markdown",
   "metadata": {},
   "source": [
    "# Activate all Dependencies"
   ]
  },
  {
   "cell_type": "code",
   "execution_count": 41,
   "metadata": {},
   "outputs": [],
   "source": [
    "import selenium\n",
    "from selenium import webdriver\n",
    "from selenium.webdriver.common.by import By\n",
    "from selenium.webdriver.support.ui import WebDriverWait\n",
    "from selenium.webdriver.support import expected_conditions as EC"
   ]
  },
  {
   "cell_type": "markdown",
   "metadata": {},
   "source": [
    "# Define where chromedriver.exe lives\n",
    "In order to have this script work, you need to:\n",
    "* Note which version of chrome is running, by going into Settings on  Chrome Browser Window\n",
    "* Install chromedriver (https://sites.google.com/a/chromium.org/chromedriver/downloads)\n",
    "* Extract chromedriver folder\n",
    "* Cut/Paste chromedriver into C://, which needs to be reflected below:"
   ]
  },
  {
   "cell_type": "code",
   "execution_count": 35,
   "metadata": {},
   "outputs": [],
   "source": [
    "PATH = \"C:\\Program Files (x86)\\chromedriver.exe\""
   ]
  },
  {
   "cell_type": "markdown",
   "metadata": {},
   "source": [
    "# Ready to Use"
   ]
  },
  {
   "cell_type": "code",
   "execution_count": 68,
   "metadata": {},
   "outputs": [],
   "source": [
    "driver = webdriver.Chrome(PATH)\n",
    "\n",
    "url = \"\"\n",
    "\n",
    "#Opens up a Browser Window with the URL\n",
    "driver.get(url)\n",
    "\n",
    "#First time you open the page\n",
    "try:\n",
    "    review = WebDriverWait(driver, 30).until(\n",
    "        EC.presence_of_element_located((By.ID, \"review-list\")))\n",
    "    users = review.find_elements_by_class_name(\"ReviewBody_review-text\")\n",
    "    nPages = int(len(review.find_elements_by_tag_name(\"option\"))/2)\n",
    "  \n",
    "    next_button = driver.find_element_by_xpath('//*[@id=\"review-list\"]/div[1]/div/div[2]/div/div[2]/nav/div/button')\n",
    "    next_button.click()  \n",
    "    \n",
    "    review = WebDriverWait(driver, 30).until(\n",
    "    EC.presence_of_element_located((By.ID, \"review-list\")))\n",
    "    users = review.find_elements_by_class_name(\"ReviewBody_review-text\")\n",
    "    \n",
    "    for user in users:\n",
    "        print(user.text)\n",
    "    \n",
    "    #for i in range(nPages-1):\n",
    "    #    for user in users:\n",
    "    #        print(user.text)\n",
    "    #    next_button = driver.find_element_by_xpath('//*[@id=\"review-list\"]/div[1]/div/div[2]/div/div[2]/nav/div/button')\n",
    "    #    next_button.click()              \n",
    "    \n",
    "except:\n",
    "    driver.quit()\n",
    "\n",
    "driver.quit()"
   ]
  },
  {
   "cell_type": "code",
   "execution_count": 81,
   "metadata": {},
   "outputs": [],
   "source": [
    "driver = webdriver.Chrome(PATH)\n",
    "\n",
    "url = \"\"\n",
    "driver.get(url)\n",
    "\n",
    "#Opens up a Browser Window with the URL\n",
    "try:\n",
    "    button = WebDriverWait(driver, 30).until(\n",
    "        EC.presence_of_element_located((By.CLASS_NAME, 'ReviewPagination_page-link ReviewPagination_prev-next Anchor_button Anchor_anchor')))\n",
    "    button.click()\n",
    "except:\n",
    "    driver.quit()"
   ]
  }
 ],
 "metadata": {
  "kernelspec": {
   "display_name": "Python 3",
   "language": "python",
   "name": "python3"
  },
  "language_info": {
   "codemirror_mode": {
    "name": "ipython",
    "version": 3
   },
   "file_extension": ".py",
   "mimetype": "text/x-python",
   "name": "python",
   "nbconvert_exporter": "python",
   "pygments_lexer": "ipython3",
   "version": "3.7.1"
  }
 },
 "nbformat": 4,
 "nbformat_minor": 4
}
