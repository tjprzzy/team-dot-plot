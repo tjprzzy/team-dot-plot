{
 "cells": [
  {
   "cell_type": "markdown",
   "metadata": {},
   "source": [
    "# Install all Dependencies"
   ]
  },
  {
   "cell_type": "code",
   "execution_count": 2,
   "metadata": {},
   "outputs": [
    {
     "name": "stdout",
     "output_type": "stream",
     "text": [
      "Requirement already satisfied: selenium in c:\\python37\\lib\\site-packages (3.141.0)\n",
      "Requirement already satisfied: urllib3 in c:\\python37\\lib\\site-packages (from selenium) (1.26.2)\n",
      "Note: you may need to restart the kernel to use updated packages.\n"
     ]
    }
   ],
   "source": [
    "pip install selenium"
   ]
  },
  {
   "cell_type": "markdown",
   "metadata": {},
   "source": [
    "# Activate all Dependencies"
   ]
  },
  {
   "cell_type": "code",
   "execution_count": 33,
   "metadata": {},
   "outputs": [],
   "source": [
    "import time\n",
    "import selenium\n",
    "from selenium import webdriver\n",
    "from selenium.webdriver.common.by import By\n",
    "from selenium.webdriver.support.ui import WebDriverWait\n",
    "from selenium.webdriver.support.ui import Select\n",
    "from selenium.webdriver.support import expected_conditions as EC"
   ]
  },
  {
   "cell_type": "markdown",
   "metadata": {},
   "source": [
    "# Define where chromedriver.exe lives\n",
    "In order to have this script work, you need to:\n",
    "* Note which version of chrome is running, by going into Settings on  Chrome Browser Window\n",
    "* Install chromedriver (https://sites.google.com/a/chromium.org/chromedriver/downloads)\n",
    "* Extract chromedriver folder\n",
    "* Cut/Paste chromedriver into C://, which needs to be reflected below:"
   ]
  },
  {
   "cell_type": "code",
   "execution_count": 3,
   "metadata": {},
   "outputs": [],
   "source": [
    "PATH = \"C:\\Program Files (x86)\\chromedriver.exe\""
   ]
  },
  {
   "cell_type": "markdown",
   "metadata": {},
   "source": [
    "# Ready to Use"
   ]
  },
  {
   "cell_type": "code",
   "execution_count": 34,
   "metadata": {},
   "outputs": [],
   "source": [
    "driver = webdriver.Chrome(PATH)\n",
    "\n",
    "url = \"\"\n",
    "\n",
    "# Opens up a Browser Window with the URL\n",
    "driver.get(url)\n",
    "\n",
    "# Define wait time before it errors out:\n",
    "wait = WebDriverWait(driver, 10)\n",
    "\n",
    "# First time you open the page, wait until the 'review-list' id is located\n",
    "review = wait.until(EC.presence_of_element_located((By.ID, \"review-list\")))\n",
    "\n",
    "# Define the number of pages needed to loop through\n",
    "nPages = int(len(review.find_elements_by_tag_name(\"option\"))/2)\n",
    "\n",
    "# Define a blank list for review comments\n",
    "review_list = []\n",
    "\n",
    "# For each of the different pages:\n",
    "for i in range(nPages):\n",
    "    select = Select(driver.find_element_by_class_name('pagination-dropdown'))\n",
    "    select.select_by_value(str(10*i))\n",
    "    \n",
    "    time.sleep(2)\n",
    "    \n",
    "    review = wait.until(EC.presence_of_element_located((By.ID, \"review-list\")))\n",
    "    users = review.find_elements_by_class_name(\"ReviewBody_review-text\")\n",
    "    for user in users:\n",
    "        review_list.append(user.text)"
   ]
  },
  {
   "cell_type": "code",
   "execution_count": 37,
   "metadata": {},
   "outputs": [
    {
     "data": {
      "text/plain": [
       "['Finally a comfy crew neck sweater! Practical yet attractive design so can go with anything. Hope they keep this around for years to come!',\n",
       " \"Ordered the tall version for my husband's XL arms but had to exchange because it really is for TALL men. He absolutely loves the color and fit and it has become his favorite weekend sweatshirt!\",\n",
       " \"The sweatshirt does run a little bit large, but after wash wasn't as bad. The material is super soft and very warm I like it a lot. I did not have to size up. Definitely reccomend.\",\n",
       " 'Comfortable and warm. Meets my expectations. Quality seems very good.',\n",
       " 'I bought this , just because , just about every article I’ve bought over years from LL Bean has been top quality. The sweatshirt fit a little loose, and being a big guy, I thought 2X would be just right or a little snug. I washed it, dried it in the dryer, now it fits just right, not to snug, not to loose. The shirt is made very well, feels great on, and is nice and warm. I’m glad I took a chance and bought it. Another “home run” designed and made by LL Bean.',\n",
       " 'This is a quality piece that I’ve already gotten a couple compliments on. It’s worth a buy!',\n",
       " 'I can say it is awesome and recommended! I will buy one again in the near future. One of the best sweatshirts I have ever worn!',\n",
       " 'This item fit like a glove true to size Comfortable excellent fabric',\n",
       " 'Fits perfect',\n",
       " \"It's a sweatshirt, but a really good looking one. I bought a green one after wearing my blue one. Absolutely worth it. One change I'd make. Embroider your logo like your other sweatshirts, or put nothing. Sewing on a patch with your name detracts from the look.\",\n",
       " 'This product exceeded all expectations. I will be ordering another when I can jump on a sale.',\n",
       " 'I really wanted to like this as I thought the overall design looked cool. I have a pretty normal frame and the upper portion of this sweatshirt is really tight. It feels a bit constricting to my shoulders and the neck opening seems especially tight. I ended up keeping it in hopes that it loosens up a bit after several wears/washes.',\n",
       " 'This has been the best crew neck I ever bought. The material is incredibly soft, it’s very warm, the color has not faded at all, I cannot find a single issue with it. I highly recommend',\n",
       " 'Better looking than a plain sweatshirt, but it could have been a heavier weight fabric',\n",
       " 'Very comfortable. Love it. A keeper.',\n",
       " 'I love it.',\n",
       " \"lightweight and pretty versatile; wish the LL Bean logo wasn't so big\",\n",
       " 'This was purchased as a birthday gift and was well received. He was happy with the weight and style of it and it fit him well. He likes that he can layer it with other shirts for additional warmth or wear it alone. He sometimes has problems with sleeves being long enough and this was perfect.',\n",
       " 'The quilted sweatshirt is wicked comfortable. I plan to buy another one soon!',\n",
       " 'My expectations were high for this quilted material sweatshirt but I was let down! The shirt was stiff and not nearly as soft as other products of this sort on the market. Needs to be much softer. Also, I wish they offered more clothes in a tapered/ athletic fit, fits too much like a box. Material and fit unfortunately made me send back.',\n",
       " 'Birthday gift for my husband and he loved it. Great weight and perfect fit. Love being able to order a Tall size for him so that the fit is perfect.',\n",
       " 'This is a great sweatshirt; it is comfortable and warm.Love it!!',\n",
       " 'My husband loves it! Instantly became his go-to sweatshirt on cold winter days!',\n",
       " 'I purchased this sweatshirt for my son and he really likes it. Great quality and correct size.',\n",
       " 'The quilted sweatshirt is well made, comfortable and is between a sweat shirt and heavy cotton sweater in terms of looks. Dressy enough that I can wear it where I would not wear a sweatshirt. I think it will hold its shape better than a sweatshirt.',\n",
       " \"Ordered this in charcoal, medium, and it fit well. Ordered another in hunter and it's much too small. Large would be too long in both arms and torso. Sent it back and gave up. Very disappointed.\",\n",
       " 'I was happy to receive the sweater after it being on back order for over a month. The feel of the material was nice (soft, yet durable) and the color was as expected. The fit however was odd, the XL was tight in the shoulders and across the chest, long in the arms and baggy towards the bottom (image a bell shape). I really liked style and color of the sweater but in the end I was disappointed in the fit and had to return it.',\n",
       " 'Great shirt. Impressed by the fit, comfort and look of this shirt. Will probably end up buying another, very pleased.',\n",
       " 'Wonderful purchase. Incredibly comfortable, warm, a pleasure to wear. I tried on a medium, a bit too tight and went for a large that is perfect. Highly recommended. I love it.',\n",
       " \"First I have to say that I love the look and feel of the material. This is the first time I've tried a LL Bean sweatshirt other then the Athletic Crew. As others have mentioned, its not a tight or slim fitting item but its definitely more tapered then the Athletic Crew. I notice it most when slipping it on but once I'm wearing it, its completely comfortable, not tight or restrictive in any way. If I were broader or heavier I could imagine it not being very comfortable. Length is also just a bit long for me but not bothersome. The Grey color is great looking.\",\n",
       " 'I ordered this shirt and then found out it was on backorder. Two months later it finally arrived and was too small. When attempting to exchange I was informed that the navy color was discontinued for the season. Every single shirt I own is a medium and this was just too small.',\n",
       " 'I waited over 3 months for this sweater, I guess it was really popular. Now I see why. The quilted style is exactly why I ordered. Very comfortable too. Fits great. Anybody who gets this sweater will not be disappointed with their purchase.',\n",
       " 'I loved the two Men’s Quilted Sweatshirt Mocknecks that I own so I ordered one of these Quilted Sweatshirt Crewnecks as soon as it became available. I received it today and it is such a disappointment. I have two Mocknecks in medium traditional fit and they fit pretty well - a little long for my liking, but I’m short so I live with it. I ordered the medium traditional fit Crewneck and it is much tighter overall, but especially in the chest/shoulders. Could I have gained the Covid 19 pounds over the past several months, thus not being able to fit in medium? Possibly, but the Mocknecks still fit fine. I also noticed that the Mocknecks are made in Peru while the Crewnecks are made in Sri Lanka so it could be related to the different factories. Very dissatisfied and I will be returning it.',\n",
       " 'Way too boxy of a fit. I got the antique gold in a large, and while I love the color, the waist is outrageously large. I have a 46ish inch chest and currently wear a 33\" waist pant, the sweater fits well in the shoulders and neck, but I could fit my stomach in twice over. While wearing the sweatshirt, my profile looks like I\\'ve got a turtle shell... Even layering under doesn\\'t look right, and I had hoped to wear this under some collared workshirts. Disappointing. I hope they make this in a better fit in the future .',\n",
       " 'We have bought from LL Bean for years. I have a variation on this shirt for women. Mine is a full zip sweat shirt, and I love it. It does have an LL Bean logo, but in a leather material (almost invisible in a navy blue sweatshirt), and down near the waistline. When I saw this sweatshirt for men, I was so excited...until I saw the bright LL Bean logo on the chest. My husband would have loved this...but NOT with the logo. LLBean, you are ruining some of your most attractive garments! Sadly, because NOW what do I buy for him??? Just my opinion.',\n",
       " \"I really like this sweatshirt. And I expected it to shrink some in the first wash. Didn't expect another significant shrink in the second wash. At this point the sleeves are too short and the neck is pretty snug. Maybe it will stetch back out, but not loving that detail. Got a lot of compliments on the sweatshirt itself. Just not sure if I can keep wearing it out of the house now.\",\n",
       " \"I'm very pleased with this quilted sweatshirt. It is not extra heavy but not too light either - - just right! Perfect for everyday and it's well made.\",\n",
       " 'I returned this sweatshirt because I did not like the fit or the style.',\n",
       " \"I liked this high quality sweatshirt but I'm in between sizes. Large is too small and XL is too big. In addition it's tapered a bit and quilting doesn't allow the fabric to stretch.\",\n",
       " \"I had this sent to my son for his birthday, and he says he loves it and that it's really soft and comfortable. He has a long torso and wears a Tall, so I got him a 2XT and he says it fits just right. This looked to me like a sweatshirt that would be very versatile.\",\n",
       " 'A little bit of texture added to a comfortable sweatshirt. 10/10',\n",
       " 'Simple look and construction. A slightly different take on the traditional sweatshirt. Good feel and weight. Not light or heavy. Just right. Perfect fall shirt.',\n",
       " 'Amazing quality',\n",
       " 'Very warm and comfortable and it doesn’t get dingleberries',\n",
       " 'Fit was too baggy. Medium Tall typically fits me very well from LL Bean but perhaps this applies more to Slim Fit (this garment is Regular Fit). Also, the color in the image on the website (“Antique Gold”) seems brighter yellow than it is in person (the actual color is more of a brown mustard).',\n",
       " 'Best clothing brand ever! I love all of the winter and fall clothing. Wish my whole closet was full of it!',\n",
       " 'Extremely happy with my purchase. This sweatshirt is nice looking, super soft, comfortable and provides warmth on its own or layered beneath a light jacket or winter coat. XL is my typical shirt size and I find this sweatshirt to be roomy enough to wear a short or long-sleeved t-shirt underneath without binding. The material seems to be highly durable and I doubt it will shrink or fade (based upon my experience with similar materials in the past). The neck hole is perfectly sized-- not too small or too large. The same with the length-- not too short or too long. I\\'m 6\\'1\" and was debating whether to go with the extra long length instead of the regular. I\\'m glad I went with the regular-- the extra long would have been too long in my opinion although I guess it would depend on how long of a shirt you\\'d ... more']"
      ]
     },
     "execution_count": 37,
     "metadata": {},
     "output_type": "execute_result"
    }
   ],
   "source": [
    "len(review_list)\n",
    "review_list"
   ]
  }
 ],
 "metadata": {
  "kernelspec": {
   "display_name": "Python 3",
   "language": "python",
   "name": "python3"
  },
  "language_info": {
   "codemirror_mode": {
    "name": "ipython",
    "version": 3
   },
   "file_extension": ".py",
   "mimetype": "text/x-python",
   "name": "python",
   "nbconvert_exporter": "python",
   "pygments_lexer": "ipython3",
   "version": "3.7.1"
  }
 },
 "nbformat": 4,
 "nbformat_minor": 4
}
